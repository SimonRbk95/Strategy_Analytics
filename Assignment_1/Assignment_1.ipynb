{
 "cells": [
  {
   "cell_type": "code",
   "execution_count": 26,
   "id": "468428d5",
   "metadata": {},
   "outputs": [],
   "source": [
    "import pandas as pd\n"
   ]
  },
  {
   "cell_type": "code",
   "execution_count": 25,
   "id": "8dfa70df",
   "metadata": {},
   "outputs": [
    {
     "name": "stdout",
     "output_type": "stream",
     "text": [
      "      Deal Number               Acquiror Name Acquiror State Acquiror Nation  \\\n",
      "0  master_deal_no                    acq_name      acq_state      acq_nation   \n",
      "1       118827020     First West Capital Corp     California   United States   \n",
      "2       125504020  Valley National Bancorp,NJ     New Jersey   United States   \n",
      "3       140363020                    Citicorp       New York   United States   \n",
      "4       143183020        TrustCo Bank Corp,NY       New York   United States   \n",
      "\n",
      "  Acquiror SIC2 Acquiror SIC4 Acquiror High Tech Industry  \\\n",
      "0      acq_sic2      acq_sic4                acq_hightech   \n",
      "1            60          6021                           0   \n",
      "2            60          6021                           0   \n",
      "3            60          6021                           0   \n",
      "4            60          6022                           0   \n",
      "\n",
      "                    Target Name Target State  Target Nation  ...  \\\n",
      "0                      tar_name    tar_state     tar_nation  ...   \n",
      "1         Hotel Investors Trust   California  United States  ...   \n",
      "2      Mayflower Financial Corp   California  United States  ...   \n",
      "3         Brookfield Bancshares     Illinois  United States  ...   \n",
      "4  National Savings Bank,Albany     New York  United States  ...   \n",
      "\n",
      "  Deal Year of Announcement Date  Deal Status Deal Completed  Deal Value  \\\n",
      "0                      deal_year  deal_status  deal_complete  deal_value   \n",
      "1                           1990    Withdrawn              0   66.769997   \n",
      "2                           1990    Completed              1   21.209999   \n",
      "3                           1990    Completed              1       19.84   \n",
      "4                           1990    Withdrawn              0   44.310001   \n",
      "\n",
      "  Deal Price per Share Deal Target Share Price [T-1] Deal Premium (in %)  \\\n",
      "0           deal_price                    deal_share        deal_premium   \n",
      "1                 5.25                          8.25          -36.363636   \n",
      "2                   17                            11           54.545456   \n",
      "3            40.779999                            43           -5.162793   \n",
      "4            38.130001                            28           36.178574   \n",
      "\n",
      "  Cross-border deal Cross-industry deal       \n",
      "0  deal_crossborder  deal_crossindustry       \n",
      "1               NaN                 NaN  NaN  \n",
      "2               NaN                 NaN  NaN  \n",
      "3               NaN                 NaN  NaN  \n",
      "4               NaN                 NaN  NaN  \n",
      "\n",
      "[5 rows x 29 columns]\n"
     ]
    }
   ],
   "source": [
    "# Read an Excel file\n",
    "df = pd.read_excel('M&A_data.xlsx', sheet_name='Data')\n",
    "\n",
    "# Display the first 5 rows of the dataframe\n",
    "print(df.head())"
   ]
  },
  {
   "cell_type": "code",
   "execution_count": 27,
   "id": "73d4d464",
   "metadata": {},
   "outputs": [
    {
     "data": {
      "text/plain": [
       "(13858, 29)"
      ]
     },
     "execution_count": 27,
     "metadata": {},
     "output_type": "execute_result"
    }
   ],
   "source": [
    "# rows & columns\n",
    "df.shape"
   ]
  },
  {
   "cell_type": "code",
   "execution_count": 28,
   "id": "c93cf245",
   "metadata": {
    "scrolled": true
   },
   "outputs": [
    {
     "data": {
      "text/plain": [
       "Deal Number                       object\n",
       "Acquiror Name                     object\n",
       "Acquiror State                    object\n",
       "Acquiror Nation                   object\n",
       "Acquiror SIC2                     object\n",
       "Acquiror SIC4                     object\n",
       "Acquiror High Tech Industry       object\n",
       "Target Name                       object\n",
       "Target State                      object\n",
       "Target Nation                     object\n",
       "Target SIC2                       object\n",
       "Target SIC4                       object\n",
       "Target High Tech Industry         object\n",
       "Target Net Sales                  object\n",
       "Target EBIT                       object\n",
       "Target Net Income                 object\n",
       "Target Total Assets               object\n",
       "Target Earnings Per Share         object\n",
       "Deal Announcement Date            object\n",
       "Deal Year of Announcement Date    object\n",
       "Deal Status                       object\n",
       "Deal Completed                    object\n",
       "Deal Value                        object\n",
       "Deal Price per Share              object\n",
       "Deal Target Share Price [T-1]     object\n",
       "Deal Premium (in %)               object\n",
       "Cross-border deal                 object\n",
       "Cross-industry deal               object\n",
       "                                  object\n",
       "dtype: object"
      ]
     },
     "execution_count": 28,
     "metadata": {},
     "output_type": "execute_result"
    }
   ],
   "source": [
    "# data types\n",
    "df.dtypes"
   ]
  },
  {
   "cell_type": "markdown",
   "id": "ae7be7ff",
   "metadata": {},
   "source": [
    "#### 14a) What is the average “Deal premium”"
   ]
  },
  {
   "cell_type": "code",
   "execution_count": 31,
   "id": "af56cf0f",
   "metadata": {},
   "outputs": [],
   "source": [
    "column_name = \"Deal Premium (in %)\"\n",
    "# change data type to float for all rows starting from index 2\n",
    "df[column_name][2:-1] = df[column_name][2:-1].astype(float)"
   ]
  },
  {
   "cell_type": "code",
   "execution_count": 39,
   "id": "0d2ef124",
   "metadata": {},
   "outputs": [
    {
     "data": {
      "text/plain": [
       "33.374739363333745"
      ]
     },
     "execution_count": 39,
     "metadata": {},
     "output_type": "execute_result"
    }
   ],
   "source": [
    "# get mean for Deal Premium in percentages\n",
    "df[column_name][2:-1].mean()\n"
   ]
  }
 ],
 "metadata": {
  "kernelspec": {
   "display_name": "Python 3 (ipykernel)",
   "language": "python",
   "name": "python3"
  },
  "language_info": {
   "codemirror_mode": {
    "name": "ipython",
    "version": 3
   },
   "file_extension": ".py",
   "mimetype": "text/x-python",
   "name": "python",
   "nbconvert_exporter": "python",
   "pygments_lexer": "ipython3",
   "version": "3.9.13"
  }
 },
 "nbformat": 4,
 "nbformat_minor": 5
}
