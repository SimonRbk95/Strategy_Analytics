{
 "cells": [
  {
   "cell_type": "code",
   "execution_count": 1,
   "id": "9a16c369",
   "metadata": {},
   "outputs": [],
   "source": [
    "import pandas as pd\n",
    "import pandas as pd\n",
    "import numpy as np\n",
    "import matplotlib.pylab as plt\n",
    "import seaborn as sns\n",
    "# change plot style\n",
    "plt.style.use('ggplot')\n",
    "# increase max number of columns displayed\n",
    "pd.set_option('display.max_columns', 200)"
   ]
  },
  {
   "cell_type": "code",
   "execution_count": 2,
   "id": "28335ce4",
   "metadata": {},
   "outputs": [],
   "source": [
    "df = pd.read_csv('ass_1_database_1.csv')"
   ]
  },
  {
   "cell_type": "code",
   "execution_count": 3,
   "id": "d474dc80",
   "metadata": {
    "scrolled": true
   },
   "outputs": [
    {
     "data": {
      "text/html": [
       "<div>\n",
       "<style scoped>\n",
       "    .dataframe tbody tr th:only-of-type {\n",
       "        vertical-align: middle;\n",
       "    }\n",
       "\n",
       "    .dataframe tbody tr th {\n",
       "        vertical-align: top;\n",
       "    }\n",
       "\n",
       "    .dataframe thead th {\n",
       "        text-align: right;\n",
       "    }\n",
       "</style>\n",
       "<table border=\"1\" class=\"dataframe\">\n",
       "  <thead>\n",
       "    <tr style=\"text-align: right;\">\n",
       "      <th></th>\n",
       "      <th>Unnamed: 0</th>\n",
       "      <th>Deal status</th>\n",
       "      <th>Deal value\\nth EUR</th>\n",
       "      <th>Acquiror stock price 3 months prior to rumour\\nEUR</th>\n",
       "      <th>Target stock price 3 months prior to rumour\\nEUR</th>\n",
       "      <th>Deal sub-type</th>\n",
       "      <th>Target major sector</th>\n",
       "      <th>Target operating revenue/turnover\\nth EUR\\nLast avail. yr</th>\n",
       "    </tr>\n",
       "  </thead>\n",
       "  <tbody>\n",
       "    <tr>\n",
       "      <th>0</th>\n",
       "      <td>0</td>\n",
       "      <td>Withdrawn</td>\n",
       "      <td>134,715,295.00*</td>\n",
       "      <td>77.400712</td>\n",
       "      <td>36.270744</td>\n",
       "      <td>Unsolicited bid</td>\n",
       "      <td>Chemicals, rubber, plastics, non-metallic prod...</td>\n",
       "      <td>2.281000e+06</td>\n",
       "    </tr>\n",
       "    <tr>\n",
       "      <th>1</th>\n",
       "      <td>56</td>\n",
       "      <td>Withdrawn</td>\n",
       "      <td>26,900,000.00*</td>\n",
       "      <td>92.410977</td>\n",
       "      <td>66.487495</td>\n",
       "      <td>Unsolicited bid</td>\n",
       "      <td>Chemicals, rubber, plastics, non-metallic prod...</td>\n",
       "      <td>9.587000e+06</td>\n",
       "    </tr>\n",
       "    <tr>\n",
       "      <th>2</th>\n",
       "      <td>60</td>\n",
       "      <td>Withdrawn</td>\n",
       "      <td>24,864,340.32*</td>\n",
       "      <td>26.868311</td>\n",
       "      <td>76.759093</td>\n",
       "      <td>Public takeover</td>\n",
       "      <td>Transport</td>\n",
       "      <td>9.837539e+06</td>\n",
       "    </tr>\n",
       "    <tr>\n",
       "      <th>3</th>\n",
       "      <td>63</td>\n",
       "      <td>Withdrawn</td>\n",
       "      <td>24369761.06</td>\n",
       "      <td>50.831415</td>\n",
       "      <td>140.726526</td>\n",
       "      <td>Unsolicited bid</td>\n",
       "      <td>Machinery, equipment, furniture, recycling</td>\n",
       "      <td>7.961014e+06</td>\n",
       "    </tr>\n",
       "    <tr>\n",
       "      <th>4</th>\n",
       "      <td>66</td>\n",
       "      <td>Withdrawn</td>\n",
       "      <td>22,330,973.99*</td>\n",
       "      <td>35.842116</td>\n",
       "      <td>81.366741</td>\n",
       "      <td>Public takeover</td>\n",
       "      <td>Food, beverages, tobacco</td>\n",
       "      <td>7.921009e+06</td>\n",
       "    </tr>\n",
       "  </tbody>\n",
       "</table>\n",
       "</div>"
      ],
      "text/plain": [
       "   Unnamed: 0 Deal status Deal value\\nth EUR  \\\n",
       "0           0   Withdrawn    134,715,295.00*   \n",
       "1          56   Withdrawn     26,900,000.00*   \n",
       "2          60   Withdrawn     24,864,340.32*   \n",
       "3          63   Withdrawn        24369761.06   \n",
       "4          66   Withdrawn     22,330,973.99*   \n",
       "\n",
       "   Acquiror stock price 3 months prior to rumour\\nEUR  \\\n",
       "0                                          77.400712    \n",
       "1                                          92.410977    \n",
       "2                                          26.868311    \n",
       "3                                          50.831415    \n",
       "4                                          35.842116    \n",
       "\n",
       "   Target stock price 3 months prior to rumour\\nEUR    Deal sub-type  \\\n",
       "0                                         36.270744  Unsolicited bid   \n",
       "1                                         66.487495  Unsolicited bid   \n",
       "2                                         76.759093  Public takeover   \n",
       "3                                        140.726526  Unsolicited bid   \n",
       "4                                         81.366741  Public takeover   \n",
       "\n",
       "                                 Target major sector  \\\n",
       "0  Chemicals, rubber, plastics, non-metallic prod...   \n",
       "1  Chemicals, rubber, plastics, non-metallic prod...   \n",
       "2                                          Transport   \n",
       "3         Machinery, equipment, furniture, recycling   \n",
       "4                           Food, beverages, tobacco   \n",
       "\n",
       "   Target operating revenue/turnover\\nth EUR\\nLast avail. yr  \n",
       "0                                       2.281000e+06          \n",
       "1                                       9.587000e+06          \n",
       "2                                       9.837539e+06          \n",
       "3                                       7.961014e+06          \n",
       "4                                       7.921009e+06          "
      ]
     },
     "execution_count": 3,
     "metadata": {},
     "output_type": "execute_result"
    }
   ],
   "source": [
    "df.head()"
   ]
  },
  {
   "cell_type": "code",
   "execution_count": 4,
   "id": "0245fcfd",
   "metadata": {},
   "outputs": [
    {
     "data": {
      "text/plain": [
       "Unnamed: 0                                                     int64\n",
       "Deal status                                                   object\n",
       "Deal value\\nth EUR                                            object\n",
       "Acquiror stock price 3 months prior to rumour\\nEUR           float64\n",
       "Target stock price 3 months prior to rumour\\nEUR             float64\n",
       "Deal sub-type                                                 object\n",
       "Target major sector                                           object\n",
       "Target operating revenue/turnover\\nth EUR\\nLast avail. yr    float64\n",
       "dtype: object"
      ]
     },
     "execution_count": 4,
     "metadata": {},
     "output_type": "execute_result"
    }
   ],
   "source": [
    "df.dtypes"
   ]
  },
  {
   "cell_type": "code",
   "execution_count": 5,
   "id": "3c9f50d1",
   "metadata": {},
   "outputs": [
    {
     "data": {
      "text/plain": [
       "Unnamed: 0                                                   99\n",
       "Deal status                                                   3\n",
       "Deal value\\nth EUR                                           99\n",
       "Acquiror stock price 3 months prior to rumour\\nEUR           89\n",
       "Target stock price 3 months prior to rumour\\nEUR             90\n",
       "Deal sub-type                                                13\n",
       "Target major sector                                          14\n",
       "Target operating revenue/turnover\\nth EUR\\nLast avail. yr    77\n",
       "dtype: int64"
      ]
     },
     "execution_count": 5,
     "metadata": {},
     "output_type": "execute_result"
    }
   ],
   "source": [
    "df.nunique()"
   ]
  },
  {
   "cell_type": "code",
   "execution_count": 6,
   "id": "ac242ec2",
   "metadata": {},
   "outputs": [
    {
     "data": {
      "text/plain": [
       "array(['Withdrawn', 'Completed', 'Completed Assumed'], dtype=object)"
      ]
     },
     "execution_count": 6,
     "metadata": {},
     "output_type": "execute_result"
    }
   ],
   "source": [
    "df['Deal status'].unique()"
   ]
  },
  {
   "cell_type": "code",
   "execution_count": 7,
   "id": "cb1b7125",
   "metadata": {},
   "outputs": [
    {
     "data": {
      "text/plain": [
       "(99, 8)"
      ]
     },
     "execution_count": 7,
     "metadata": {},
     "output_type": "execute_result"
    }
   ],
   "source": [
    "df.shape"
   ]
  },
  {
   "cell_type": "code",
   "execution_count": 10,
   "id": "58ebd8bc",
   "metadata": {},
   "outputs": [
    {
     "data": {
      "text/plain": [
       "Unnamed: 0                                                   0\n",
       "Deal status                                                  0\n",
       "Deal value\\nth EUR                                           0\n",
       "Acquiror stock price 3 months prior to rumour\\nEUR           0\n",
       "Target stock price 3 months prior to rumour\\nEUR             0\n",
       "Deal sub-type                                                0\n",
       "Target major sector                                          0\n",
       "Target operating revenue/turnover\\nth EUR\\nLast avail. yr    0\n",
       "dtype: int64"
      ]
     },
     "execution_count": 10,
     "metadata": {},
     "output_type": "execute_result"
    }
   ],
   "source": [
    "df.isna().sum()"
   ]
  },
  {
   "cell_type": "code",
   "execution_count": 11,
   "id": "60234c25",
   "metadata": {},
   "outputs": [],
   "source": [
    "df = df.drop(df.columns[0], axis=1).copy()"
   ]
  },
  {
   "cell_type": "code",
   "execution_count": null,
   "id": "16e264bc",
   "metadata": {
    "scrolled": true
   },
   "outputs": [],
   "source": [
    "df.head()"
   ]
  },
  {
   "cell_type": "code",
   "execution_count": null,
   "id": "af00a386",
   "metadata": {},
   "outputs": [],
   "source": [
    "df.dtypes"
   ]
  },
  {
   "cell_type": "code",
   "execution_count": null,
   "id": "515875c6",
   "metadata": {},
   "outputs": [],
   "source": []
  }
 ],
 "metadata": {
  "kernelspec": {
   "display_name": "Python 3 (ipykernel)",
   "language": "python",
   "name": "python3"
  },
  "language_info": {
   "codemirror_mode": {
    "name": "ipython",
    "version": 3
   },
   "file_extension": ".py",
   "mimetype": "text/x-python",
   "name": "python",
   "nbconvert_exporter": "python",
   "pygments_lexer": "ipython3",
   "version": "3.9.13"
  }
 },
 "nbformat": 4,
 "nbformat_minor": 5
}
