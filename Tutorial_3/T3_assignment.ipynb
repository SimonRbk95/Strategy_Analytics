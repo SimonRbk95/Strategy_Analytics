{
 "cells": [
  {
   "cell_type": "code",
   "execution_count": 1,
   "id": "5f8f4f24",
   "metadata": {},
   "outputs": [],
   "source": [
    "import pandas as pd\n",
    "import numpy as np\n",
    "import matplotlib.pylab as plt\n",
    "import seaborn as sns\n",
    "# change plot style\n",
    "plt.style.use('ggplot')\n",
    "# increase max number of columns displayed\n",
    "pd.set_option('display.max_columns', 200)"
   ]
  },
  {
   "cell_type": "code",
   "execution_count": 2,
   "id": "d5fbc220",
   "metadata": {},
   "outputs": [],
   "source": [
    "df = pd.read_csv('Part 2 - WinesSubset.csv')"
   ]
  },
  {
   "cell_type": "code",
   "execution_count": 3,
   "id": "214fea69",
   "metadata": {
    "scrolled": true
   },
   "outputs": [
    {
     "data": {
      "text/html": [
       "<div>\n",
       "<style scoped>\n",
       "    .dataframe tbody tr th:only-of-type {\n",
       "        vertical-align: middle;\n",
       "    }\n",
       "\n",
       "    .dataframe tbody tr th {\n",
       "        vertical-align: top;\n",
       "    }\n",
       "\n",
       "    .dataframe thead th {\n",
       "        text-align: right;\n",
       "    }\n",
       "</style>\n",
       "<table border=\"1\" class=\"dataframe\">\n",
       "  <thead>\n",
       "    <tr style=\"text-align: right;\">\n",
       "      <th></th>\n",
       "      <th>fixed_acidity</th>\n",
       "      <th>volatile_acidity</th>\n",
       "      <th>citric_acid</th>\n",
       "      <th>residual_sugar</th>\n",
       "      <th>chlorides</th>\n",
       "      <th>free_sulfur_dioxide</th>\n",
       "      <th>total_sulfur_dioxide</th>\n",
       "      <th>density</th>\n",
       "      <th>pH</th>\n",
       "      <th>sulphates</th>\n",
       "      <th>alcohol</th>\n",
       "      <th>quality</th>\n",
       "      <th>red</th>\n",
       "    </tr>\n",
       "  </thead>\n",
       "  <tbody>\n",
       "    <tr>\n",
       "      <th>0</th>\n",
       "      <td>7.8</td>\n",
       "      <td>0.76</td>\n",
       "      <td>0.04</td>\n",
       "      <td>2.3</td>\n",
       "      <td>0.092</td>\n",
       "      <td>15</td>\n",
       "      <td>54</td>\n",
       "      <td>0.9970</td>\n",
       "      <td>3.26</td>\n",
       "      <td>0.65</td>\n",
       "      <td>9.8</td>\n",
       "      <td>5</td>\n",
       "      <td>1</td>\n",
       "    </tr>\n",
       "    <tr>\n",
       "      <th>1</th>\n",
       "      <td>8.5</td>\n",
       "      <td>0.28</td>\n",
       "      <td>0.56</td>\n",
       "      <td>1.8</td>\n",
       "      <td>0.092</td>\n",
       "      <td>35</td>\n",
       "      <td>103</td>\n",
       "      <td>0.9969</td>\n",
       "      <td>3.30</td>\n",
       "      <td>0.75</td>\n",
       "      <td>10.5</td>\n",
       "      <td>7</td>\n",
       "      <td>1</td>\n",
       "    </tr>\n",
       "    <tr>\n",
       "      <th>2</th>\n",
       "      <td>8.1</td>\n",
       "      <td>0.56</td>\n",
       "      <td>0.28</td>\n",
       "      <td>1.7</td>\n",
       "      <td>0.368</td>\n",
       "      <td>16</td>\n",
       "      <td>56</td>\n",
       "      <td>0.9968</td>\n",
       "      <td>3.11</td>\n",
       "      <td>1.28</td>\n",
       "      <td>9.3</td>\n",
       "      <td>5</td>\n",
       "      <td>1</td>\n",
       "    </tr>\n",
       "    <tr>\n",
       "      <th>3</th>\n",
       "      <td>6.3</td>\n",
       "      <td>0.39</td>\n",
       "      <td>0.16</td>\n",
       "      <td>1.4</td>\n",
       "      <td>0.080</td>\n",
       "      <td>11</td>\n",
       "      <td>23</td>\n",
       "      <td>0.9955</td>\n",
       "      <td>3.34</td>\n",
       "      <td>0.56</td>\n",
       "      <td>9.3</td>\n",
       "      <td>5</td>\n",
       "      <td>1</td>\n",
       "    </tr>\n",
       "    <tr>\n",
       "      <th>4</th>\n",
       "      <td>8.1</td>\n",
       "      <td>0.38</td>\n",
       "      <td>0.28</td>\n",
       "      <td>2.1</td>\n",
       "      <td>0.066</td>\n",
       "      <td>13</td>\n",
       "      <td>30</td>\n",
       "      <td>0.9968</td>\n",
       "      <td>3.23</td>\n",
       "      <td>0.73</td>\n",
       "      <td>9.7</td>\n",
       "      <td>7</td>\n",
       "      <td>1</td>\n",
       "    </tr>\n",
       "  </tbody>\n",
       "</table>\n",
       "</div>"
      ],
      "text/plain": [
       "   fixed_acidity  volatile_acidity  citric_acid  residual_sugar  chlorides  \\\n",
       "0            7.8              0.76         0.04             2.3      0.092   \n",
       "1            8.5              0.28         0.56             1.8      0.092   \n",
       "2            8.1              0.56         0.28             1.7      0.368   \n",
       "3            6.3              0.39         0.16             1.4      0.080   \n",
       "4            8.1              0.38         0.28             2.1      0.066   \n",
       "\n",
       "   free_sulfur_dioxide  total_sulfur_dioxide  density    pH  sulphates  \\\n",
       "0                   15                    54   0.9970  3.26       0.65   \n",
       "1                   35                   103   0.9969  3.30       0.75   \n",
       "2                   16                    56   0.9968  3.11       1.28   \n",
       "3                   11                    23   0.9955  3.34       0.56   \n",
       "4                   13                    30   0.9968  3.23       0.73   \n",
       "\n",
       "   alcohol  quality  red  \n",
       "0      9.8        5    1  \n",
       "1     10.5        7    1  \n",
       "2      9.3        5    1  \n",
       "3      9.3        5    1  \n",
       "4      9.7        7    1  "
      ]
     },
     "execution_count": 3,
     "metadata": {},
     "output_type": "execute_result"
    }
   ],
   "source": [
    "df.head()"
   ]
  },
  {
   "cell_type": "code",
   "execution_count": 4,
   "id": "7da64977",
   "metadata": {
    "scrolled": true
   },
   "outputs": [
    {
     "data": {
      "text/plain": [
       "fixed_acidity           float64\n",
       "volatile_acidity        float64\n",
       "citric_acid             float64\n",
       "residual_sugar          float64\n",
       "chlorides               float64\n",
       "free_sulfur_dioxide       int64\n",
       "total_sulfur_dioxide      int64\n",
       "density                 float64\n",
       "pH                      float64\n",
       "sulphates               float64\n",
       "alcohol                 float64\n",
       "quality                   int64\n",
       "red                       int64\n",
       "dtype: object"
      ]
     },
     "execution_count": 4,
     "metadata": {},
     "output_type": "execute_result"
    }
   ],
   "source": [
    "df.dtypes"
   ]
  },
  {
   "cell_type": "code",
   "execution_count": 5,
   "id": "8b9c0976",
   "metadata": {},
   "outputs": [
    {
     "data": {
      "text/plain": [
       "Index(['fixed_acidity', 'volatile_acidity', 'citric_acid', 'residual_sugar',\n",
       "       'chlorides', 'free_sulfur_dioxide', 'total_sulfur_dioxide', 'density',\n",
       "       'pH', 'sulphates', 'alcohol', 'quality', 'red'],\n",
       "      dtype='object')"
      ]
     },
     "execution_count": 5,
     "metadata": {},
     "output_type": "execute_result"
    }
   ],
   "source": [
    "df.columns"
   ]
  },
  {
   "cell_type": "code",
   "execution_count": 6,
   "id": "60820984",
   "metadata": {
    "scrolled": true
   },
   "outputs": [
    {
     "data": {
      "text/html": [
       "<div>\n",
       "<style scoped>\n",
       "    .dataframe tbody tr th:only-of-type {\n",
       "        vertical-align: middle;\n",
       "    }\n",
       "\n",
       "    .dataframe tbody tr th {\n",
       "        vertical-align: top;\n",
       "    }\n",
       "\n",
       "    .dataframe thead th {\n",
       "        text-align: right;\n",
       "    }\n",
       "</style>\n",
       "<table border=\"1\" class=\"dataframe\">\n",
       "  <thead>\n",
       "    <tr style=\"text-align: right;\">\n",
       "      <th></th>\n",
       "      <th>fixed_acidity</th>\n",
       "      <th>volatile_acidity</th>\n",
       "      <th>citric_acid</th>\n",
       "      <th>residual_sugar</th>\n",
       "      <th>chlorides</th>\n",
       "      <th>free_sulfur_dioxide</th>\n",
       "      <th>total_sulfur_dioxide</th>\n",
       "      <th>density</th>\n",
       "      <th>pH</th>\n",
       "      <th>sulphates</th>\n",
       "      <th>alcohol</th>\n",
       "      <th>quality</th>\n",
       "      <th>red</th>\n",
       "    </tr>\n",
       "  </thead>\n",
       "  <tbody>\n",
       "    <tr>\n",
       "      <th>count</th>\n",
       "      <td>100.000000</td>\n",
       "      <td>100.000000</td>\n",
       "      <td>100.000000</td>\n",
       "      <td>100.000000</td>\n",
       "      <td>100.000000</td>\n",
       "      <td>100.000000</td>\n",
       "      <td>100.000000</td>\n",
       "      <td>100.000000</td>\n",
       "      <td>100.000000</td>\n",
       "      <td>100.000000</td>\n",
       "      <td>100.000000</td>\n",
       "      <td>100.000000</td>\n",
       "      <td>100.0</td>\n",
       "    </tr>\n",
       "    <tr>\n",
       "      <th>mean</th>\n",
       "      <td>8.373000</td>\n",
       "      <td>0.515350</td>\n",
       "      <td>0.278300</td>\n",
       "      <td>2.660000</td>\n",
       "      <td>0.093810</td>\n",
       "      <td>15.460000</td>\n",
       "      <td>46.990000</td>\n",
       "      <td>0.996857</td>\n",
       "      <td>3.291300</td>\n",
       "      <td>0.678100</td>\n",
       "      <td>10.434000</td>\n",
       "      <td>5.670000</td>\n",
       "      <td>1.0</td>\n",
       "    </tr>\n",
       "    <tr>\n",
       "      <th>std</th>\n",
       "      <td>1.763597</td>\n",
       "      <td>0.170017</td>\n",
       "      <td>0.204416</td>\n",
       "      <td>1.513041</td>\n",
       "      <td>0.060315</td>\n",
       "      <td>10.307808</td>\n",
       "      <td>32.437195</td>\n",
       "      <td>0.001990</td>\n",
       "      <td>0.156906</td>\n",
       "      <td>0.206738</td>\n",
       "      <td>1.112121</td>\n",
       "      <td>0.910711</td>\n",
       "      <td>0.0</td>\n",
       "    </tr>\n",
       "    <tr>\n",
       "      <th>min</th>\n",
       "      <td>5.000000</td>\n",
       "      <td>0.250000</td>\n",
       "      <td>0.000000</td>\n",
       "      <td>1.200000</td>\n",
       "      <td>0.041000</td>\n",
       "      <td>3.000000</td>\n",
       "      <td>8.000000</td>\n",
       "      <td>0.992400</td>\n",
       "      <td>2.870000</td>\n",
       "      <td>0.440000</td>\n",
       "      <td>8.400000</td>\n",
       "      <td>3.000000</td>\n",
       "      <td>1.0</td>\n",
       "    </tr>\n",
       "    <tr>\n",
       "      <th>25%</th>\n",
       "      <td>7.100000</td>\n",
       "      <td>0.387500</td>\n",
       "      <td>0.097500</td>\n",
       "      <td>1.900000</td>\n",
       "      <td>0.071000</td>\n",
       "      <td>6.750000</td>\n",
       "      <td>21.000000</td>\n",
       "      <td>0.995575</td>\n",
       "      <td>3.197500</td>\n",
       "      <td>0.567500</td>\n",
       "      <td>9.500000</td>\n",
       "      <td>5.000000</td>\n",
       "      <td>1.0</td>\n",
       "    </tr>\n",
       "    <tr>\n",
       "      <th>50%</th>\n",
       "      <td>8.050000</td>\n",
       "      <td>0.495000</td>\n",
       "      <td>0.275000</td>\n",
       "      <td>2.250000</td>\n",
       "      <td>0.081000</td>\n",
       "      <td>12.500000</td>\n",
       "      <td>40.500000</td>\n",
       "      <td>0.996900</td>\n",
       "      <td>3.305000</td>\n",
       "      <td>0.620000</td>\n",
       "      <td>10.200000</td>\n",
       "      <td>5.500000</td>\n",
       "      <td>1.0</td>\n",
       "    </tr>\n",
       "    <tr>\n",
       "      <th>75%</th>\n",
       "      <td>9.325000</td>\n",
       "      <td>0.635000</td>\n",
       "      <td>0.470000</td>\n",
       "      <td>2.725000</td>\n",
       "      <td>0.092000</td>\n",
       "      <td>21.000000</td>\n",
       "      <td>63.250000</td>\n",
       "      <td>0.998325</td>\n",
       "      <td>3.390000</td>\n",
       "      <td>0.740000</td>\n",
       "      <td>11.200000</td>\n",
       "      <td>6.000000</td>\n",
       "      <td>1.0</td>\n",
       "    </tr>\n",
       "    <tr>\n",
       "      <th>max</th>\n",
       "      <td>13.200000</td>\n",
       "      <td>1.040000</td>\n",
       "      <td>0.730000</td>\n",
       "      <td>11.000000</td>\n",
       "      <td>0.464000</td>\n",
       "      <td>46.000000</td>\n",
       "      <td>148.000000</td>\n",
       "      <td>1.001500</td>\n",
       "      <td>3.740000</td>\n",
       "      <td>1.620000</td>\n",
       "      <td>13.300000</td>\n",
       "      <td>8.000000</td>\n",
       "      <td>1.0</td>\n",
       "    </tr>\n",
       "  </tbody>\n",
       "</table>\n",
       "</div>"
      ],
      "text/plain": [
       "       fixed_acidity  volatile_acidity  citric_acid  residual_sugar  \\\n",
       "count     100.000000        100.000000   100.000000      100.000000   \n",
       "mean        8.373000          0.515350     0.278300        2.660000   \n",
       "std         1.763597          0.170017     0.204416        1.513041   \n",
       "min         5.000000          0.250000     0.000000        1.200000   \n",
       "25%         7.100000          0.387500     0.097500        1.900000   \n",
       "50%         8.050000          0.495000     0.275000        2.250000   \n",
       "75%         9.325000          0.635000     0.470000        2.725000   \n",
       "max        13.200000          1.040000     0.730000       11.000000   \n",
       "\n",
       "        chlorides  free_sulfur_dioxide  total_sulfur_dioxide     density  \\\n",
       "count  100.000000           100.000000            100.000000  100.000000   \n",
       "mean     0.093810            15.460000             46.990000    0.996857   \n",
       "std      0.060315            10.307808             32.437195    0.001990   \n",
       "min      0.041000             3.000000              8.000000    0.992400   \n",
       "25%      0.071000             6.750000             21.000000    0.995575   \n",
       "50%      0.081000            12.500000             40.500000    0.996900   \n",
       "75%      0.092000            21.000000             63.250000    0.998325   \n",
       "max      0.464000            46.000000            148.000000    1.001500   \n",
       "\n",
       "               pH   sulphates     alcohol     quality    red  \n",
       "count  100.000000  100.000000  100.000000  100.000000  100.0  \n",
       "mean     3.291300    0.678100   10.434000    5.670000    1.0  \n",
       "std      0.156906    0.206738    1.112121    0.910711    0.0  \n",
       "min      2.870000    0.440000    8.400000    3.000000    1.0  \n",
       "25%      3.197500    0.567500    9.500000    5.000000    1.0  \n",
       "50%      3.305000    0.620000   10.200000    5.500000    1.0  \n",
       "75%      3.390000    0.740000   11.200000    6.000000    1.0  \n",
       "max      3.740000    1.620000   13.300000    8.000000    1.0  "
      ]
     },
     "execution_count": 6,
     "metadata": {},
     "output_type": "execute_result"
    }
   ],
   "source": [
    "df.describe()"
   ]
  },
  {
   "cell_type": "markdown",
   "id": "a514f652",
   "metadata": {},
   "source": [
    "## Data Preperation"
   ]
  },
  {
   "cell_type": "code",
   "execution_count": 7,
   "id": "ca516325",
   "metadata": {},
   "outputs": [
    {
     "data": {
      "text/plain": [
       "fixed_acidity           0\n",
       "volatile_acidity        0\n",
       "citric_acid             0\n",
       "residual_sugar          0\n",
       "chlorides               0\n",
       "free_sulfur_dioxide     0\n",
       "total_sulfur_dioxide    0\n",
       "density                 0\n",
       "pH                      0\n",
       "sulphates               0\n",
       "alcohol                 0\n",
       "quality                 0\n",
       "red                     0\n",
       "dtype: int64"
      ]
     },
     "execution_count": 7,
     "metadata": {},
     "output_type": "execute_result"
    }
   ],
   "source": [
    "# check for missing values\n",
    "df.isna().sum()"
   ]
  },
  {
   "cell_type": "code",
   "execution_count": 8,
   "id": "21bf6529",
   "metadata": {},
   "outputs": [
    {
     "data": {
      "text/html": [
       "<div>\n",
       "<style scoped>\n",
       "    .dataframe tbody tr th:only-of-type {\n",
       "        vertical-align: middle;\n",
       "    }\n",
       "\n",
       "    .dataframe tbody tr th {\n",
       "        vertical-align: top;\n",
       "    }\n",
       "\n",
       "    .dataframe thead th {\n",
       "        text-align: right;\n",
       "    }\n",
       "</style>\n",
       "<table border=\"1\" class=\"dataframe\">\n",
       "  <thead>\n",
       "    <tr style=\"text-align: right;\">\n",
       "      <th></th>\n",
       "      <th>fixed_acidity</th>\n",
       "      <th>volatile_acidity</th>\n",
       "      <th>citric_acid</th>\n",
       "      <th>residual_sugar</th>\n",
       "      <th>chlorides</th>\n",
       "      <th>free_sulfur_dioxide</th>\n",
       "      <th>total_sulfur_dioxide</th>\n",
       "      <th>density</th>\n",
       "      <th>pH</th>\n",
       "      <th>sulphates</th>\n",
       "      <th>alcohol</th>\n",
       "      <th>quality</th>\n",
       "      <th>red</th>\n",
       "    </tr>\n",
       "  </thead>\n",
       "  <tbody>\n",
       "    <tr>\n",
       "      <th>45</th>\n",
       "      <td>10.4</td>\n",
       "      <td>0.33</td>\n",
       "      <td>0.63</td>\n",
       "      <td>2.8</td>\n",
       "      <td>0.084</td>\n",
       "      <td>5</td>\n",
       "      <td>22</td>\n",
       "      <td>0.9998</td>\n",
       "      <td>3.26</td>\n",
       "      <td>0.74</td>\n",
       "      <td>11.2</td>\n",
       "      <td>7</td>\n",
       "      <td>1</td>\n",
       "    </tr>\n",
       "    <tr>\n",
       "      <th>47</th>\n",
       "      <td>10.4</td>\n",
       "      <td>0.33</td>\n",
       "      <td>0.63</td>\n",
       "      <td>2.8</td>\n",
       "      <td>0.084</td>\n",
       "      <td>5</td>\n",
       "      <td>22</td>\n",
       "      <td>0.9998</td>\n",
       "      <td>3.26</td>\n",
       "      <td>0.74</td>\n",
       "      <td>11.2</td>\n",
       "      <td>7</td>\n",
       "      <td>1</td>\n",
       "    </tr>\n",
       "  </tbody>\n",
       "</table>\n",
       "</div>"
      ],
      "text/plain": [
       "    fixed_acidity  volatile_acidity  citric_acid  residual_sugar  chlorides  \\\n",
       "45           10.4              0.33         0.63             2.8      0.084   \n",
       "47           10.4              0.33         0.63             2.8      0.084   \n",
       "\n",
       "    free_sulfur_dioxide  total_sulfur_dioxide  density    pH  sulphates  \\\n",
       "45                    5                    22   0.9998  3.26       0.74   \n",
       "47                    5                    22   0.9998  3.26       0.74   \n",
       "\n",
       "    alcohol  quality  red  \n",
       "45     11.2        7    1  \n",
       "47     11.2        7    1  "
      ]
     },
     "execution_count": 8,
     "metadata": {},
     "output_type": "execute_result"
    }
   ],
   "source": [
    "# check duplicates\n",
    "df.loc[df.duplicated(keep=False)]"
   ]
  },
  {
   "cell_type": "code",
   "execution_count": 9,
   "id": "a9497ba6",
   "metadata": {},
   "outputs": [],
   "source": [
    "# copy of dataframe without duplicates\n",
    "df = df.loc[~df.duplicated()].reset_index(drop=True).copy()"
   ]
  },
  {
   "cell_type": "code",
   "execution_count": 10,
   "id": "d85e511d",
   "metadata": {},
   "outputs": [],
   "source": [
    "cont_vars = ['fixed_acidity', 'volatile_acidity', 'citric_acid',\n",
    "             'residual_sugar', 'chlorides', 'free_sulfur_dioxide',\n",
    "             'total_sulfur_dioxide', 'density', 'pH', 'sulphates', 'alcohol']"
   ]
  },
  {
   "cell_type": "code",
   "execution_count": 11,
   "id": "eb88e4b0",
   "metadata": {},
   "outputs": [
    {
     "data": {
      "image/png": "[encoded data removed]",
      "text/plain": [
       "<Figure size 2000x1000 with 12 Axes>"
      ]
     },
     "metadata": {},
     "output_type": "display_data"
    }
   ],
   "source": [
    "df[cont_vars].hist(bins=15, figsize=(20, 10))\n",
    "plt.show()"
   ]
  },
  {
   "cell_type": "code",
   "execution_count": 19,
   "id": "bee62844",
   "metadata": {},
   "outputs": [
    {
     "data": {
      "image/png": "[encoded data removed]",
      "text/plain": [
       "<Figure size 640x480 with 1 Axes>"
      ]
     },
     "metadata": {},
     "output_type": "display_data"
    }
   ],
   "source": [
    "sns.countplot(x='quality', data=df)\n",
    "plt.show()"
   ]
  },
  {
   "cell_type": "markdown",
   "id": "73062242",
   "metadata": {},
   "source": [
    "#### 12c) Do the variables follow rather normal distributions? Which variables do (not)? \n",
    "most of the variables do not follow a normal distribution, including 'fixed_acidity', 'volatile_acicitric_acid',\n",
    "'residual_sugar', 'chlorides', 'free_sulfur_dioxide','total_sulfur_dioxide', 'sulphates', 'alcohol'. Most of those are right-skewed.\n",
    "\n",
    "#### 12d)  How  does  the  distribution  of  variables  influence  distances  and  clustering?  How  can  scaling variables overcome this issue?\n",
    "<ul>\n",
    "<li>Clustering algorithms can be sensitive to outliers in the data. Variables with a non-normal distribution may have more outliers than normally distributed variables\n",
    "<li>The skewness of a variable can affect the shape of the clusters produced by clustering algorithms.\n",
    "</ul>\n",
    "\n",
    "Scaling variables does not necessarily overcome the issues of non-normal distributions, but it can help alleviate some of the problems associated with non-normal data, such as skewness stretching out clusters, when performing certain types of analyses. It is important to note that the distribution of the variables affect the standardization. For instance, a skewed data's mean and standard deviation may not be appropriate measures for scaling.\n",
    "\n",
    "#### 12a) Why is clustering a convenient method to start understanding new fields? What does it achieve that helps managers? Explain in max. 100 words. \n",
    "#### 12b) Which of these two dendrograms would be more useful for managerial purposes? Why? Explain in max. 100 words. \n",
    "\n"
   ]
  },
  {
   "cell_type": "code",
   "execution_count": null,
   "id": "40e4c5d6",
   "metadata": {},
   "outputs": [],
   "source": []
  }
 ],
 "metadata": {
  "kernelspec": {
   "display_name": "Python 3 (ipykernel)",
   "language": "python",
   "name": "python3"
  },
  "language_info": {
   "codemirror_mode": {
    "name": "ipython",
    "version": 3
   },
   "file_extension": ".py",
   "mimetype": "text/x-python",
   "name": "python",
   "nbconvert_exporter": "python",
   "pygments_lexer": "ipython3",
   "version": "3.9.13"
  }
 },
 "nbformat": 4,
 "nbformat_minor": 5
}
