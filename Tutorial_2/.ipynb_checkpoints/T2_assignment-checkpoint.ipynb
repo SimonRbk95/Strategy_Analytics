{
 "cells": [
  {
   "cell_type": "code",
   "execution_count": 1,
   "id": "d7d9e919",
   "metadata": {},
   "outputs": [],
   "source": [
    "import pandas as pd\n",
    "import matplotlib.pyplot as plt\n",
    "import statsmodels.api as sm\n",
    "from sklearn.linear_model import LinearRegression\n",
    "from sklearn.model_selection import train_test_split\n",
    "from sklearn.preprocessing import MinMaxScaler\n",
    "from sklearn.metrics import r2_score"
   ]
  },
  {
   "cell_type": "code",
   "execution_count": 2,
   "id": "2a351c41",
   "metadata": {},
   "outputs": [],
   "source": [
    "# Read Excel file\n",
    "df = pd.read_csv('Turnover.csv')"
   ]
  },
  {
   "cell_type": "code",
   "execution_count": 3,
   "id": "7265e86d",
   "metadata": {
    "scrolled": false
   },
   "outputs": [
    {
     "data": {
      "text/html": [
       "<div>\n",
       "<style scoped>\n",
       "    .dataframe tbody tr th:only-of-type {\n",
       "        vertical-align: middle;\n",
       "    }\n",
       "\n",
       "    .dataframe tbody tr th {\n",
       "        vertical-align: top;\n",
       "    }\n",
       "\n",
       "    .dataframe thead th {\n",
       "        text-align: right;\n",
       "    }\n",
       "</style>\n",
       "<table border=\"1\" class=\"dataframe\">\n",
       "  <thead>\n",
       "    <tr style=\"text-align: right;\">\n",
       "      <th></th>\n",
       "      <th>satisfaction</th>\n",
       "      <th>evaluation</th>\n",
       "      <th>projects</th>\n",
       "      <th>hours</th>\n",
       "      <th>tenure</th>\n",
       "      <th>accident</th>\n",
       "      <th>left</th>\n",
       "      <th>promotion</th>\n",
       "      <th>department</th>\n",
       "      <th>salary</th>\n",
       "    </tr>\n",
       "  </thead>\n",
       "  <tbody>\n",
       "    <tr>\n",
       "      <th>0</th>\n",
       "      <td>8.5</td>\n",
       "      <td>6.4</td>\n",
       "      <td>4</td>\n",
       "      <td>238</td>\n",
       "      <td>2</td>\n",
       "      <td>no</td>\n",
       "      <td>no</td>\n",
       "      <td>no</td>\n",
       "      <td>technical</td>\n",
       "      <td>low</td>\n",
       "    </tr>\n",
       "    <tr>\n",
       "      <th>1</th>\n",
       "      <td>8.5</td>\n",
       "      <td>8.9</td>\n",
       "      <td>6</td>\n",
       "      <td>145</td>\n",
       "      <td>2</td>\n",
       "      <td>yes</td>\n",
       "      <td>no</td>\n",
       "      <td>no</td>\n",
       "      <td>mktg_sales</td>\n",
       "      <td>low</td>\n",
       "    </tr>\n",
       "    <tr>\n",
       "      <th>2</th>\n",
       "      <td>2.4</td>\n",
       "      <td>6.7</td>\n",
       "      <td>5</td>\n",
       "      <td>254</td>\n",
       "      <td>4</td>\n",
       "      <td>no</td>\n",
       "      <td>no</td>\n",
       "      <td>no</td>\n",
       "      <td>management</td>\n",
       "      <td>high</td>\n",
       "    </tr>\n",
       "    <tr>\n",
       "      <th>3</th>\n",
       "      <td>2.0</td>\n",
       "      <td>9.4</td>\n",
       "      <td>5</td>\n",
       "      <td>274</td>\n",
       "      <td>3</td>\n",
       "      <td>no</td>\n",
       "      <td>yes</td>\n",
       "      <td>no</td>\n",
       "      <td>product_rand</td>\n",
       "      <td>low</td>\n",
       "    </tr>\n",
       "    <tr>\n",
       "      <th>4</th>\n",
       "      <td>9.8</td>\n",
       "      <td>8.8</td>\n",
       "      <td>5</td>\n",
       "      <td>236</td>\n",
       "      <td>2</td>\n",
       "      <td>no</td>\n",
       "      <td>no</td>\n",
       "      <td>no</td>\n",
       "      <td>product_rand</td>\n",
       "      <td>low</td>\n",
       "    </tr>\n",
       "  </tbody>\n",
       "</table>\n",
       "</div>"
      ],
      "text/plain": [
       "   satisfaction  evaluation  projects  hours  tenure accident left promotion  \\\n",
       "0           8.5         6.4         4    238       2       no   no        no   \n",
       "1           8.5         8.9         6    145       2      yes   no        no   \n",
       "2           2.4         6.7         5    254       4       no   no        no   \n",
       "3           2.0         9.4         5    274       3       no  yes        no   \n",
       "4           9.8         8.8         5    236       2       no   no        no   \n",
       "\n",
       "     department salary  \n",
       "0     technical    low  \n",
       "1    mktg_sales    low  \n",
       "2    management   high  \n",
       "3  product_rand    low  \n",
       "4  product_rand    low  "
      ]
     },
     "execution_count": 3,
     "metadata": {},
     "output_type": "execute_result"
    }
   ],
   "source": [
    "df.head()"
   ]
  },
  {
   "cell_type": "code",
   "execution_count": 6,
   "id": "494c257d",
   "metadata": {},
   "outputs": [
    {
     "data": {
      "text/html": [
       "<div>\n",
       "<style scoped>\n",
       "    .dataframe tbody tr th:only-of-type {\n",
       "        vertical-align: middle;\n",
       "    }\n",
       "\n",
       "    .dataframe tbody tr th {\n",
       "        vertical-align: top;\n",
       "    }\n",
       "\n",
       "    .dataframe thead th {\n",
       "        text-align: right;\n",
       "    }\n",
       "</style>\n",
       "<table border=\"1\" class=\"dataframe\">\n",
       "  <thead>\n",
       "    <tr style=\"text-align: right;\">\n",
       "      <th></th>\n",
       "      <th>satisfaction</th>\n",
       "      <th>evaluation</th>\n",
       "      <th>projects</th>\n",
       "      <th>hours</th>\n",
       "      <th>tenure</th>\n",
       "    </tr>\n",
       "  </thead>\n",
       "  <tbody>\n",
       "    <tr>\n",
       "      <th>count</th>\n",
       "      <td>13000.000000</td>\n",
       "      <td>13000.000000</td>\n",
       "      <td>13000.000000</td>\n",
       "      <td>13000.000000</td>\n",
       "      <td>13000.000000</td>\n",
       "    </tr>\n",
       "    <tr>\n",
       "      <th>mean</th>\n",
       "      <td>6.526023</td>\n",
       "      <td>7.148800</td>\n",
       "      <td>3.805615</td>\n",
       "      <td>200.939769</td>\n",
       "      <td>2.501769</td>\n",
       "    </tr>\n",
       "    <tr>\n",
       "      <th>std</th>\n",
       "      <td>2.238893</td>\n",
       "      <td>1.712046</td>\n",
       "      <td>1.476273</td>\n",
       "      <td>50.009637</td>\n",
       "      <td>1.459981</td>\n",
       "    </tr>\n",
       "    <tr>\n",
       "      <th>min</th>\n",
       "      <td>1.800000</td>\n",
       "      <td>3.600000</td>\n",
       "      <td>1.000000</td>\n",
       "      <td>91.000000</td>\n",
       "      <td>1.000000</td>\n",
       "    </tr>\n",
       "    <tr>\n",
       "      <th>25%</th>\n",
       "      <td>5.000000</td>\n",
       "      <td>5.600000</td>\n",
       "      <td>3.000000</td>\n",
       "      <td>156.000000</td>\n",
       "      <td>2.000000</td>\n",
       "    </tr>\n",
       "    <tr>\n",
       "      <th>50%</th>\n",
       "      <td>6.800000</td>\n",
       "      <td>7.200000</td>\n",
       "      <td>4.000000</td>\n",
       "      <td>200.000000</td>\n",
       "      <td>2.000000</td>\n",
       "    </tr>\n",
       "    <tr>\n",
       "      <th>75%</th>\n",
       "      <td>8.400000</td>\n",
       "      <td>8.700000</td>\n",
       "      <td>5.000000</td>\n",
       "      <td>245.000000</td>\n",
       "      <td>3.000000</td>\n",
       "    </tr>\n",
       "    <tr>\n",
       "      <th>max</th>\n",
       "      <td>10.000000</td>\n",
       "      <td>10.000000</td>\n",
       "      <td>8.000000</td>\n",
       "      <td>315.000000</td>\n",
       "      <td>9.000000</td>\n",
       "    </tr>\n",
       "  </tbody>\n",
       "</table>\n",
       "</div>"
      ],
      "text/plain": [
       "       satisfaction    evaluation      projects         hours        tenure\n",
       "count  13000.000000  13000.000000  13000.000000  13000.000000  13000.000000\n",
       "mean       6.526023      7.148800      3.805615    200.939769      2.501769\n",
       "std        2.238893      1.712046      1.476273     50.009637      1.459981\n",
       "min        1.800000      3.600000      1.000000     91.000000      1.000000\n",
       "25%        5.000000      5.600000      3.000000    156.000000      2.000000\n",
       "50%        6.800000      7.200000      4.000000    200.000000      2.000000\n",
       "75%        8.400000      8.700000      5.000000    245.000000      3.000000\n",
       "max       10.000000     10.000000      8.000000    315.000000      9.000000"
      ]
     },
     "execution_count": 6,
     "metadata": {},
     "output_type": "execute_result"
    }
   ],
   "source": [
    "df.describe()"
   ]
  },
  {
   "cell_type": "code",
   "execution_count": 7,
   "id": "bdcc5a89",
   "metadata": {},
   "outputs": [
    {
     "data": {
      "text/plain": [
       "satisfaction    float64\n",
       "evaluation      float64\n",
       "projects          int64\n",
       "hours             int64\n",
       "tenure            int64\n",
       "accident         object\n",
       "left             object\n",
       "promotion        object\n",
       "department       object\n",
       "salary           object\n",
       "dtype: object"
      ]
     },
     "execution_count": 7,
     "metadata": {},
     "output_type": "execute_result"
    }
   ],
   "source": [
    "df.dtypes"
   ]
  },
  {
   "cell_type": "markdown",
   "id": "230e6eda",
   "metadata": {},
   "source": [
    "### Data Preprocessing"
   ]
  },
  {
   "cell_type": "code",
   "execution_count": 8,
   "id": "20cb8e28",
   "metadata": {},
   "outputs": [],
   "source": [
    "# feature engineering\n",
    "def binary_map(feature):\n",
    "    return feature.map({'yes':1, 'no':0})\n",
    "\n",
    "binary_list = ['accident', 'left', 'promotion']\n",
    "df[binary_list] = df[binary_list].apply(binary_map)\n",
    "\n",
    "# one-hot encoding of features with more than two categories\n",
    "df = pd.get_dummies(df, drop_first=False)"
   ]
  },
  {
   "cell_type": "code",
   "execution_count": 17,
   "id": "8de454bc",
   "metadata": {},
   "outputs": [],
   "source": [
    "def cor(c1,c2):\n",
    "    correlation=df[c1].corr(df[c2])\n",
    "    print(correlation)\n",
    "    plt.plot(df[c1], df[c2], 'o', color='blue')\n",
    "    plt.xlabel(c1)\n",
    "    plt.ylabel(c2)\n",
    "    plt.show()\n",
    "    return correlation\n",
    "    \n",
    "def group_plot(dep,ind):\n",
    "    # copy of dataframe only including rows where dependent variable is True\n",
    "    df_gr = df[df[dep] == 1]\n",
    "    # new dataframe grouped by independent variable \n",
    "    gr_by_category = df_gr.groupby(ind)[dep].count()\n",
    "    gr_by_category.plot(kind='bar')\n",
    "    plt.title(f\"Number of {dep} by category\")\n",
    "    plt.xlabel(ind)\n",
    "    plt.ylabel(f\"Number of {dep}\")\n",
    "    plt.show()\n",
    "    return gr_by_category"
   ]
  },
  {
   "cell_type": "markdown",
   "id": "b8584024",
   "metadata": {},
   "source": [
    "#### 8a) How many employees have left?"
   ]
  },
  {
   "cell_type": "code",
   "execution_count": 43,
   "id": "15b9379c",
   "metadata": {},
   "outputs": [
    {
     "data": {
      "text/plain": [
       "3112"
      ]
     },
     "execution_count": 43,
     "metadata": {},
     "output_type": "execute_result"
    }
   ],
   "source": [
    "df[df['left'] == 1].shape[0]"
   ]
  },
  {
   "cell_type": "markdown",
   "id": "cb3462bf",
   "metadata": {},
   "source": [
    "#### 8b) What is the relationship between projects and employees leaving? \n"
   ]
  },
  {
   "cell_type": "code",
   "execution_count": 18,
   "id": "b85186b5",
   "metadata": {
    "scrolled": true
   },
   "outputs": [
    {
     "data": {
      "image/png": "[encoded data removed]",
      "text/plain": [
       "<Figure size 640x480 with 1 Axes>"
      ]
     },
     "metadata": {},
     "output_type": "display_data"
    },
    {
     "data": {
      "text/plain": [
       "projects\n",
       "1    439\n",
       "2    506\n",
       "3    579\n",
       "4    310\n",
       "5    505\n",
       "6    430\n",
       "7    275\n",
       "8     68\n",
       "Name: left, dtype: int64"
      ]
     },
     "execution_count": 18,
     "metadata": {},
     "output_type": "execute_result"
    }
   ],
   "source": [
    "group_plot('left', 'projects')"
   ]
  },
  {
   "cell_type": "markdown",
   "id": "5fea768b",
   "metadata": {},
   "source": [
    "The lower the number of projects, the higher the number of people that leave the company. The number of projects 4 and 8 are associated with the lowest churn."
   ]
  },
  {
   "cell_type": "markdown",
   "id": "23792ff0",
   "metadata": {},
   "source": [
    "#### 8c) Are employees that received a promotion more or less likely to leave?  "
   ]
  },
  {
   "cell_type": "code",
   "execution_count": 19,
   "id": "3f34d3ba",
   "metadata": {
    "scrolled": true
   },
   "outputs": [
    {
     "data": {
      "image/png": "[encoded data removed]",
      "text/plain": [
       "<Figure size 640x480 with 1 Axes>"
      ]
     },
     "metadata": {},
     "output_type": "display_data"
    },
    {
     "data": {
      "text/plain": [
       "promotion\n",
       "0    3057\n",
       "1      55\n",
       "Name: left, dtype: int64"
      ]
     },
     "execution_count": 19,
     "metadata": {},
     "output_type": "execute_result"
    }
   ],
   "source": [
    "group_plot('left', 'promotion')"
   ]
  },
  {
   "cell_type": "markdown",
   "id": "ac06fb6c",
   "metadata": {},
   "source": [
    "Employees that received a promotion are less likely to leave"
   ]
  },
  {
   "cell_type": "markdown",
   "id": "b95f7521",
   "metadata": {},
   "source": [
    "#### 8d) Which departments show the highest employee turnover? "
   ]
  },
  {
   "cell_type": "code",
   "execution_count": 41,
   "id": "c6d6c948",
   "metadata": {
    "scrolled": false
   },
   "outputs": [
    {
     "data": {
      "image/png": "[encoded data removed]",
      "text/plain": [
       "<Figure size 640x480 with 1 Axes>"
      ]
     },
     "metadata": {},
     "output_type": "display_data"
    }
   ],
   "source": [
    "departments = ['department_acct_it', 'department_management','department_mktg_sales', \n",
    " 'department_product_rand', 'department_support_hr', \n",
    " 'department_technical']\n",
    "\n",
    "tmp = group_plot('left', departments)"
   ]
  },
  {
   "cell_type": "code",
   "execution_count": 40,
   "id": "a1b1e1db",
   "metadata": {
    "scrolled": false
   },
   "outputs": [
    {
     "name": "stdout",
     "output_type": "stream",
     "text": [
      " Odds of employees leaving that work in department_acct_it:  0.21836925960637302\n",
      " Odds of employees leaving that work in department_management:  0.24987981924814923\n",
      " Odds of employees leaving that work in department_mktg_sales:  0.12622368535042883\n",
      " Odds of employees leaving that work in department_product_rand:  0.5009814109225262\n",
      " Odds of employees leaving that work in department_support_hr:  0.04434447300771208\n",
      " Odds of employees leaving that work in department_technical:  0.152788862286069\n"
     ]
    }
   ],
   "source": [
    "# total employees\n",
    "T = len(df)\n",
    "# odds of leaving the company\n",
    "for d in departments:\n",
    "    print(f' Odds of employees leaving that work in {d}: ', (df[df[d] == 1].shape[0] / df[df[d] == 0].shape[0]))"
   ]
  },
  {
   "cell_type": "markdown",
   "id": "fd35dfbb",
   "metadata": {},
   "source": [
    "At first glance employees working in product_rand are most likely to leave the company, followed by support_hr and technical. However, examining the odds of people leaving it's obvious that department is not indicative of employees leaving."
   ]
  }
 ],
 "metadata": {
  "kernelspec": {
   "display_name": "Python 3 (ipykernel)",
   "language": "python",
   "name": "python3"
  },
  "language_info": {
   "codemirror_mode": {
    "name": "ipython",
    "version": 3
   },
   "file_extension": ".py",
   "mimetype": "text/x-python",
   "name": "python",
   "nbconvert_exporter": "python",
   "pygments_lexer": "ipython3",
   "version": "3.9.13"
  }
 },
 "nbformat": 4,
 "nbformat_minor": 5
}
