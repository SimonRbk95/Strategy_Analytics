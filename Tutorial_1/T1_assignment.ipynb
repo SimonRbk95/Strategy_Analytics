{
 "cells": [
  {
   "cell_type": "code",
   "execution_count": 1,
   "id": "547dc71c",
   "metadata": {},
   "outputs": [],
   "source": [
    "import pandas as pd\n"
   ]
  },
  {
   "cell_type": "code",
   "execution_count": 2,
   "id": "28c45e16",
   "metadata": {},
   "outputs": [],
   "source": [
    "# Read Excel file\n",
    "df = pd.read_excel('M_A_data.xlsx', sheet_name='Data')"
   ]
  },
  {
   "cell_type": "code",
   "execution_count": 3,
   "id": "c7fef4a9",
   "metadata": {},
   "outputs": [
    {
     "data": {
      "text/html": [
       "<div>\n",
       "<style scoped>\n",
       "    .dataframe tbody tr th:only-of-type {\n",
       "        vertical-align: middle;\n",
       "    }\n",
       "\n",
       "    .dataframe tbody tr th {\n",
       "        vertical-align: top;\n",
       "    }\n",
       "\n",
       "    .dataframe thead th {\n",
       "        text-align: right;\n",
       "    }\n",
       "</style>\n",
       "<table border=\"1\" class=\"dataframe\">\n",
       "  <thead>\n",
       "    <tr style=\"text-align: right;\">\n",
       "      <th></th>\n",
       "      <th>Deal Number</th>\n",
       "      <th>Acquiror Name</th>\n",
       "      <th>Acquiror State</th>\n",
       "      <th>Acquiror Nation</th>\n",
       "      <th>Acquiror SIC2</th>\n",
       "      <th>Acquiror SIC4</th>\n",
       "      <th>Acquiror High Tech Industry</th>\n",
       "      <th>Target Name</th>\n",
       "      <th>Target State</th>\n",
       "      <th>Target Nation</th>\n",
       "      <th>...</th>\n",
       "      <th>Deal Year of Announcement Date</th>\n",
       "      <th>Deal Status</th>\n",
       "      <th>Deal Completed</th>\n",
       "      <th>Deal Value</th>\n",
       "      <th>Deal Price per Share</th>\n",
       "      <th>Deal Target Share Price [T-1]</th>\n",
       "      <th>Deal Premium (in %)</th>\n",
       "      <th>Cross-border deal</th>\n",
       "      <th>Cross-industry deal</th>\n",
       "      <th></th>\n",
       "    </tr>\n",
       "  </thead>\n",
       "  <tbody>\n",
       "    <tr>\n",
       "      <th>0</th>\n",
       "      <td>master_deal_no</td>\n",
       "      <td>acq_name</td>\n",
       "      <td>acq_state</td>\n",
       "      <td>acq_nation</td>\n",
       "      <td>acq_sic2</td>\n",
       "      <td>acq_sic4</td>\n",
       "      <td>acq_hightech</td>\n",
       "      <td>tar_name</td>\n",
       "      <td>tar_state</td>\n",
       "      <td>tar_nation</td>\n",
       "      <td>...</td>\n",
       "      <td>deal_year</td>\n",
       "      <td>deal_status</td>\n",
       "      <td>deal_complete</td>\n",
       "      <td>deal_value</td>\n",
       "      <td>deal_price</td>\n",
       "      <td>deal_share</td>\n",
       "      <td>deal_premium</td>\n",
       "      <td>deal_crossborder</td>\n",
       "      <td>deal_crossindustry</td>\n",
       "      <td></td>\n",
       "    </tr>\n",
       "    <tr>\n",
       "      <th>1</th>\n",
       "      <td>118827020</td>\n",
       "      <td>First West Capital Corp</td>\n",
       "      <td>California</td>\n",
       "      <td>United States</td>\n",
       "      <td>60</td>\n",
       "      <td>6021</td>\n",
       "      <td>0</td>\n",
       "      <td>Hotel Investors Trust</td>\n",
       "      <td>California</td>\n",
       "      <td>United States</td>\n",
       "      <td>...</td>\n",
       "      <td>1990</td>\n",
       "      <td>Withdrawn</td>\n",
       "      <td>0</td>\n",
       "      <td>66.769997</td>\n",
       "      <td>5.25</td>\n",
       "      <td>8.25</td>\n",
       "      <td>-36.363636</td>\n",
       "      <td>NaN</td>\n",
       "      <td>NaN</td>\n",
       "      <td>NaN</td>\n",
       "    </tr>\n",
       "    <tr>\n",
       "      <th>2</th>\n",
       "      <td>125504020</td>\n",
       "      <td>Valley National Bancorp,NJ</td>\n",
       "      <td>New Jersey</td>\n",
       "      <td>United States</td>\n",
       "      <td>60</td>\n",
       "      <td>6021</td>\n",
       "      <td>0</td>\n",
       "      <td>Mayflower Financial Corp</td>\n",
       "      <td>California</td>\n",
       "      <td>United States</td>\n",
       "      <td>...</td>\n",
       "      <td>1990</td>\n",
       "      <td>Completed</td>\n",
       "      <td>1</td>\n",
       "      <td>21.209999</td>\n",
       "      <td>17</td>\n",
       "      <td>11</td>\n",
       "      <td>54.545456</td>\n",
       "      <td>NaN</td>\n",
       "      <td>NaN</td>\n",
       "      <td>NaN</td>\n",
       "    </tr>\n",
       "    <tr>\n",
       "      <th>3</th>\n",
       "      <td>140363020</td>\n",
       "      <td>Citicorp</td>\n",
       "      <td>New York</td>\n",
       "      <td>United States</td>\n",
       "      <td>60</td>\n",
       "      <td>6021</td>\n",
       "      <td>0</td>\n",
       "      <td>Brookfield Bancshares</td>\n",
       "      <td>Illinois</td>\n",
       "      <td>United States</td>\n",
       "      <td>...</td>\n",
       "      <td>1990</td>\n",
       "      <td>Completed</td>\n",
       "      <td>1</td>\n",
       "      <td>19.84</td>\n",
       "      <td>40.779999</td>\n",
       "      <td>43</td>\n",
       "      <td>-5.162793</td>\n",
       "      <td>NaN</td>\n",
       "      <td>NaN</td>\n",
       "      <td>NaN</td>\n",
       "    </tr>\n",
       "    <tr>\n",
       "      <th>4</th>\n",
       "      <td>143183020</td>\n",
       "      <td>TrustCo Bank Corp,NY</td>\n",
       "      <td>New York</td>\n",
       "      <td>United States</td>\n",
       "      <td>60</td>\n",
       "      <td>6022</td>\n",
       "      <td>0</td>\n",
       "      <td>National Savings Bank,Albany</td>\n",
       "      <td>New York</td>\n",
       "      <td>United States</td>\n",
       "      <td>...</td>\n",
       "      <td>1990</td>\n",
       "      <td>Withdrawn</td>\n",
       "      <td>0</td>\n",
       "      <td>44.310001</td>\n",
       "      <td>38.130001</td>\n",
       "      <td>28</td>\n",
       "      <td>36.178574</td>\n",
       "      <td>NaN</td>\n",
       "      <td>NaN</td>\n",
       "      <td>NaN</td>\n",
       "    </tr>\n",
       "  </tbody>\n",
       "</table>\n",
       "<p>5 rows × 29 columns</p>\n",
       "</div>"
      ],
      "text/plain": [
       "      Deal Number               Acquiror Name Acquiror State Acquiror Nation  \\\n",
       "0  master_deal_no                    acq_name      acq_state      acq_nation   \n",
       "1       118827020     First West Capital Corp     California   United States   \n",
       "2       125504020  Valley National Bancorp,NJ     New Jersey   United States   \n",
       "3       140363020                    Citicorp       New York   United States   \n",
       "4       143183020        TrustCo Bank Corp,NY       New York   United States   \n",
       "\n",
       "  Acquiror SIC2 Acquiror SIC4 Acquiror High Tech Industry  \\\n",
       "0      acq_sic2      acq_sic4                acq_hightech   \n",
       "1            60          6021                           0   \n",
       "2            60          6021                           0   \n",
       "3            60          6021                           0   \n",
       "4            60          6022                           0   \n",
       "\n",
       "                    Target Name Target State  Target Nation  ...  \\\n",
       "0                      tar_name    tar_state     tar_nation  ...   \n",
       "1         Hotel Investors Trust   California  United States  ...   \n",
       "2      Mayflower Financial Corp   California  United States  ...   \n",
       "3         Brookfield Bancshares     Illinois  United States  ...   \n",
       "4  National Savings Bank,Albany     New York  United States  ...   \n",
       "\n",
       "  Deal Year of Announcement Date  Deal Status Deal Completed  Deal Value  \\\n",
       "0                      deal_year  deal_status  deal_complete  deal_value   \n",
       "1                           1990    Withdrawn              0   66.769997   \n",
       "2                           1990    Completed              1   21.209999   \n",
       "3                           1990    Completed              1       19.84   \n",
       "4                           1990    Withdrawn              0   44.310001   \n",
       "\n",
       "  Deal Price per Share Deal Target Share Price [T-1] Deal Premium (in %)  \\\n",
       "0           deal_price                    deal_share        deal_premium   \n",
       "1                 5.25                          8.25          -36.363636   \n",
       "2                   17                            11           54.545456   \n",
       "3            40.779999                            43           -5.162793   \n",
       "4            38.130001                            28           36.178574   \n",
       "\n",
       "  Cross-border deal Cross-industry deal       \n",
       "0  deal_crossborder  deal_crossindustry       \n",
       "1               NaN                 NaN  NaN  \n",
       "2               NaN                 NaN  NaN  \n",
       "3               NaN                 NaN  NaN  \n",
       "4               NaN                 NaN  NaN  \n",
       "\n",
       "[5 rows x 29 columns]"
      ]
     },
     "execution_count": 3,
     "metadata": {},
     "output_type": "execute_result"
    }
   ],
   "source": [
    "# overview\n",
    "df.head()"
   ]
  },
  {
   "cell_type": "code",
   "execution_count": 4,
   "id": "cf4bc1e9",
   "metadata": {},
   "outputs": [],
   "source": [
    "# make row at index 0 the new headers\n",
    "df.columns = df.iloc[0]\n",
    "\n",
    "# drop the old header\n",
    "df = df.drop([0])\n",
    "df = df.reset_index(drop=True)"
   ]
  },
  {
   "cell_type": "code",
   "execution_count": 5,
   "id": "053d8b98",
   "metadata": {},
   "outputs": [
    {
     "data": {
      "text/html": [
       "<div>\n",
       "<style scoped>\n",
       "    .dataframe tbody tr th:only-of-type {\n",
       "        vertical-align: middle;\n",
       "    }\n",
       "\n",
       "    .dataframe tbody tr th {\n",
       "        vertical-align: top;\n",
       "    }\n",
       "\n",
       "    .dataframe thead th {\n",
       "        text-align: right;\n",
       "    }\n",
       "</style>\n",
       "<table border=\"1\" class=\"dataframe\">\n",
       "  <thead>\n",
       "    <tr style=\"text-align: right;\">\n",
       "      <th></th>\n",
       "      <th>master_deal_no</th>\n",
       "      <th>acq_name</th>\n",
       "      <th>acq_state</th>\n",
       "      <th>acq_nation</th>\n",
       "      <th>acq_sic2</th>\n",
       "      <th>acq_sic4</th>\n",
       "      <th>acq_hightech</th>\n",
       "      <th>tar_name</th>\n",
       "      <th>tar_state</th>\n",
       "      <th>tar_nation</th>\n",
       "      <th>...</th>\n",
       "      <th>deal_year</th>\n",
       "      <th>deal_status</th>\n",
       "      <th>deal_complete</th>\n",
       "      <th>deal_value</th>\n",
       "      <th>deal_price</th>\n",
       "      <th>deal_share</th>\n",
       "      <th>deal_premium</th>\n",
       "      <th>deal_crossborder</th>\n",
       "      <th>deal_crossindustry</th>\n",
       "      <th></th>\n",
       "    </tr>\n",
       "  </thead>\n",
       "  <tbody>\n",
       "    <tr>\n",
       "      <th>0</th>\n",
       "      <td>118827020</td>\n",
       "      <td>First West Capital Corp</td>\n",
       "      <td>California</td>\n",
       "      <td>United States</td>\n",
       "      <td>60</td>\n",
       "      <td>6021</td>\n",
       "      <td>0</td>\n",
       "      <td>Hotel Investors Trust</td>\n",
       "      <td>California</td>\n",
       "      <td>United States</td>\n",
       "      <td>...</td>\n",
       "      <td>1990</td>\n",
       "      <td>Withdrawn</td>\n",
       "      <td>0</td>\n",
       "      <td>66.769997</td>\n",
       "      <td>5.25</td>\n",
       "      <td>8.25</td>\n",
       "      <td>-36.363636</td>\n",
       "      <td>NaN</td>\n",
       "      <td>NaN</td>\n",
       "      <td>NaN</td>\n",
       "    </tr>\n",
       "    <tr>\n",
       "      <th>1</th>\n",
       "      <td>125504020</td>\n",
       "      <td>Valley National Bancorp,NJ</td>\n",
       "      <td>New Jersey</td>\n",
       "      <td>United States</td>\n",
       "      <td>60</td>\n",
       "      <td>6021</td>\n",
       "      <td>0</td>\n",
       "      <td>Mayflower Financial Corp</td>\n",
       "      <td>California</td>\n",
       "      <td>United States</td>\n",
       "      <td>...</td>\n",
       "      <td>1990</td>\n",
       "      <td>Completed</td>\n",
       "      <td>1</td>\n",
       "      <td>21.209999</td>\n",
       "      <td>17</td>\n",
       "      <td>11</td>\n",
       "      <td>54.545456</td>\n",
       "      <td>NaN</td>\n",
       "      <td>NaN</td>\n",
       "      <td>NaN</td>\n",
       "    </tr>\n",
       "    <tr>\n",
       "      <th>2</th>\n",
       "      <td>140363020</td>\n",
       "      <td>Citicorp</td>\n",
       "      <td>New York</td>\n",
       "      <td>United States</td>\n",
       "      <td>60</td>\n",
       "      <td>6021</td>\n",
       "      <td>0</td>\n",
       "      <td>Brookfield Bancshares</td>\n",
       "      <td>Illinois</td>\n",
       "      <td>United States</td>\n",
       "      <td>...</td>\n",
       "      <td>1990</td>\n",
       "      <td>Completed</td>\n",
       "      <td>1</td>\n",
       "      <td>19.84</td>\n",
       "      <td>40.779999</td>\n",
       "      <td>43</td>\n",
       "      <td>-5.162793</td>\n",
       "      <td>NaN</td>\n",
       "      <td>NaN</td>\n",
       "      <td>NaN</td>\n",
       "    </tr>\n",
       "    <tr>\n",
       "      <th>3</th>\n",
       "      <td>143183020</td>\n",
       "      <td>TrustCo Bank Corp,NY</td>\n",
       "      <td>New York</td>\n",
       "      <td>United States</td>\n",
       "      <td>60</td>\n",
       "      <td>6022</td>\n",
       "      <td>0</td>\n",
       "      <td>National Savings Bank,Albany</td>\n",
       "      <td>New York</td>\n",
       "      <td>United States</td>\n",
       "      <td>...</td>\n",
       "      <td>1990</td>\n",
       "      <td>Withdrawn</td>\n",
       "      <td>0</td>\n",
       "      <td>44.310001</td>\n",
       "      <td>38.130001</td>\n",
       "      <td>28</td>\n",
       "      <td>36.178574</td>\n",
       "      <td>NaN</td>\n",
       "      <td>NaN</td>\n",
       "      <td>NaN</td>\n",
       "    </tr>\n",
       "    <tr>\n",
       "      <th>4</th>\n",
       "      <td>143454020</td>\n",
       "      <td>IPCO Corp</td>\n",
       "      <td>New York</td>\n",
       "      <td>United States</td>\n",
       "      <td>50</td>\n",
       "      <td>5048</td>\n",
       "      <td>0</td>\n",
       "      <td>Royal International Optical</td>\n",
       "      <td>Texas</td>\n",
       "      <td>United States</td>\n",
       "      <td>...</td>\n",
       "      <td>1990</td>\n",
       "      <td>Withdrawn</td>\n",
       "      <td>0</td>\n",
       "      <td>87</td>\n",
       "      <td>12.25</td>\n",
       "      <td>9.625</td>\n",
       "      <td>27.272728</td>\n",
       "      <td>NaN</td>\n",
       "      <td>NaN</td>\n",
       "      <td>NaN</td>\n",
       "    </tr>\n",
       "  </tbody>\n",
       "</table>\n",
       "<p>5 rows × 29 columns</p>\n",
       "</div>"
      ],
      "text/plain": [
       "0 master_deal_no                    acq_name   acq_state     acq_nation  \\\n",
       "0      118827020     First West Capital Corp  California  United States   \n",
       "1      125504020  Valley National Bancorp,NJ  New Jersey  United States   \n",
       "2      140363020                    Citicorp    New York  United States   \n",
       "3      143183020        TrustCo Bank Corp,NY    New York  United States   \n",
       "4      143454020                   IPCO Corp    New York  United States   \n",
       "\n",
       "0 acq_sic2 acq_sic4 acq_hightech                      tar_name   tar_state  \\\n",
       "0       60     6021            0         Hotel Investors Trust  California   \n",
       "1       60     6021            0      Mayflower Financial Corp  California   \n",
       "2       60     6021            0         Brookfield Bancshares    Illinois   \n",
       "3       60     6022            0  National Savings Bank,Albany    New York   \n",
       "4       50     5048            0   Royal International Optical       Texas   \n",
       "\n",
       "0     tar_nation  ... deal_year deal_status deal_complete deal_value  \\\n",
       "0  United States  ...      1990   Withdrawn             0  66.769997   \n",
       "1  United States  ...      1990   Completed             1  21.209999   \n",
       "2  United States  ...      1990   Completed             1      19.84   \n",
       "3  United States  ...      1990   Withdrawn             0  44.310001   \n",
       "4  United States  ...      1990   Withdrawn             0         87   \n",
       "\n",
       "0 deal_price deal_share deal_premium deal_crossborder deal_crossindustry       \n",
       "0       5.25       8.25   -36.363636              NaN                NaN  NaN  \n",
       "1         17         11    54.545456              NaN                NaN  NaN  \n",
       "2  40.779999         43    -5.162793              NaN                NaN  NaN  \n",
       "3  38.130001         28    36.178574              NaN                NaN  NaN  \n",
       "4      12.25      9.625    27.272728              NaN                NaN  NaN  \n",
       "\n",
       "[5 rows x 29 columns]"
      ]
     },
     "execution_count": 5,
     "metadata": {},
     "output_type": "execute_result"
    }
   ],
   "source": [
    "# overiew of dataframe after changes\n",
    "df.head()"
   ]
  },
  {
   "cell_type": "code",
   "execution_count": 6,
   "id": "1b74c304",
   "metadata": {},
   "outputs": [
    {
     "data": {
      "text/plain": [
       "0\n",
       "master_deal_no        object\n",
       "acq_name              object\n",
       "acq_state             object\n",
       "acq_nation            object\n",
       "acq_sic2              object\n",
       "acq_sic4              object\n",
       "acq_hightech          object\n",
       "tar_name              object\n",
       "tar_state             object\n",
       "tar_nation            object\n",
       "tar_sic2              object\n",
       "tar_sic4              object\n",
       "tar_hightech          object\n",
       "tar_sales             object\n",
       "tar_ebit              object\n",
       "tar_ni                object\n",
       "tar_assets            object\n",
       "tar_eps               object\n",
       "deal_date             object\n",
       "deal_year             object\n",
       "deal_status           object\n",
       "deal_complete         object\n",
       "deal_value            object\n",
       "deal_price            object\n",
       "deal_share            object\n",
       "deal_premium          object\n",
       "deal_crossborder      object\n",
       "deal_crossindustry    object\n",
       "                      object\n",
       "dtype: object"
      ]
     },
     "execution_count": 6,
     "metadata": {},
     "output_type": "execute_result"
    }
   ],
   "source": [
    "# check data types\n",
    "df.dtypes"
   ]
  },
  {
   "cell_type": "markdown",
   "id": "f42c94ab",
   "metadata": {},
   "source": [
    "### Excercise 14"
   ]
  },
  {
   "cell_type": "markdown",
   "id": "4187644d",
   "metadata": {},
   "source": [
    "#### 14a) What is the average “Deal premium”"
   ]
  },
  {
   "cell_type": "code",
   "execution_count": 7,
   "id": "1f698180",
   "metadata": {},
   "outputs": [
    {
     "data": {
      "text/plain": [
       "33.3606314598331"
      ]
     },
     "execution_count": 7,
     "metadata": {},
     "output_type": "execute_result"
    }
   ],
   "source": [
    "column_name = \"deal_premium\"\n",
    "\n",
    "# change data type to float for all rows starting from index 2\n",
    "df[column_name] = df[column_name].astype(float)\n",
    "\n",
    "# get mean for Deal Premium in percentages\n",
    "df[column_name].mean()"
   ]
  },
  {
   "cell_type": "markdown",
   "id": "ea7c4c8a",
   "metadata": {},
   "source": [
    "#### 14b) What is the average deal premium for a high-tech target firm? "
   ]
  },
  {
   "cell_type": "code",
   "execution_count": 8,
   "id": "c1befbe7",
   "metadata": {},
   "outputs": [
    {
     "data": {
      "text/plain": [
       "37.96077524085723"
      ]
     },
     "execution_count": 8,
     "metadata": {},
     "output_type": "execute_result"
    }
   ],
   "source": [
    "# turn features to numericals\n",
    "df['tar_hightech'] = df['tar_hightech'].astype(int)\n",
    "\n",
    "# compute mean only for firms in the high tech industry\n",
    "df.loc[df['tar_hightech'] == 1, column_name].mean()"
   ]
  },
  {
   "cell_type": "markdown",
   "id": "492d03ff",
   "metadata": {},
   "source": [
    "#### 14c) What is the average deal premium for a non-high-tech target firm?"
   ]
  },
  {
   "cell_type": "code",
   "execution_count": 10,
   "id": "4a677a72",
   "metadata": {},
   "outputs": [
    {
     "data": {
      "text/plain": [
       "31.319371576171733"
      ]
     },
     "execution_count": 10,
     "metadata": {},
     "output_type": "execute_result"
    }
   ],
   "source": [
    "# turn features to numericals\n",
    "df['tar_hightech'] = df['tar_hightech'].astype(int)\n",
    "\n",
    "# compute mean only for firms in the high tech industry\n",
    "df.loc[df['tar_hightech'] == 0, column_name].mean()"
   ]
  },
  {
   "cell_type": "markdown",
   "id": "4606867b",
   "metadata": {},
   "source": [
    "#### 14d) What is the average deal premium for cross-border deals? "
   ]
  },
  {
   "cell_type": "code",
   "execution_count": 14,
   "id": "3e04ad9b",
   "metadata": {},
   "outputs": [
    {
     "data": {
      "text/plain": [
       "36.52026762388438"
      ]
     },
     "execution_count": 14,
     "metadata": {},
     "output_type": "execute_result"
    }
   ],
   "source": [
    "# compute mean of deal premium where acquiring nation is not the same as target nation\n",
    "df.loc[df['acq_nation'] != df['tar_nation'], column_name].mean()"
   ]
  },
  {
   "cell_type": "markdown",
   "id": "5dd70fd8",
   "metadata": {},
   "source": [
    "#### 14e) What is the average deal premium for domestic deals? "
   ]
  },
  {
   "cell_type": "code",
   "execution_count": 15,
   "id": "5bb82f5a",
   "metadata": {},
   "outputs": [
    {
     "data": {
      "text/plain": [
       "32.61315729680437"
      ]
     },
     "execution_count": 15,
     "metadata": {},
     "output_type": "execute_result"
    }
   ],
   "source": [
    "# compute mean of deal premium where acquiring nation is the same as target nation\n",
    "df.loc[df['acq_nation'] == df['tar_nation'], column_name].mean()"
   ]
  },
  {
   "cell_type": "markdown",
   "id": "4457acb1",
   "metadata": {},
   "source": [
    "#### 14f) What is the average deal premium for cross-industry deals? "
   ]
  },
  {
   "cell_type": "code",
   "execution_count": 16,
   "id": "d8c811fe",
   "metadata": {},
   "outputs": [
    {
     "data": {
      "text/plain": [
       "33.5751981474247"
      ]
     },
     "execution_count": 16,
     "metadata": {},
     "output_type": "execute_result"
    }
   ],
   "source": [
    "df.loc[df['acq_sic4'] != df['tar_sic4'], column_name].mean()"
   ]
  },
  {
   "cell_type": "markdown",
   "id": "59ee7e3a",
   "metadata": {},
   "source": [
    "#### 14g) What is the average deal premium for within-industry deals?"
   ]
  },
  {
   "cell_type": "code",
   "execution_count": 18,
   "id": "e10e1f0a",
   "metadata": {},
   "outputs": [
    {
     "data": {
      "text/plain": [
       "32.91870651793545"
      ]
     },
     "execution_count": 18,
     "metadata": {},
     "output_type": "execute_result"
    }
   ],
   "source": [
    "df.loc[df['acq_sic4'] == df['tar_sic4'], column_name].mean()"
   ]
  },
  {
   "cell_type": "markdown",
   "id": "0e5c95b6",
   "metadata": {},
   "source": [
    "### Excercise 15"
   ]
  },
  {
   "cell_type": "code",
   "execution_count": 68,
   "id": "33bc6745",
   "metadata": {
    "scrolled": true
   },
   "outputs": [
    {
     "name": "stdout",
     "output_type": "stream",
     "text": [
      "      counts sums_deal_values  avg_deal_value  avg_deal_premium\n",
      "year                                                           \n",
      "1990     209     76703.775587      379.721661         41.316944\n",
      "1991     213     41361.535179      196.959691         40.628768\n",
      "1992     190     47956.731038      257.831887         46.445640\n",
      "1993     249    106450.791323      454.917912         39.051383\n",
      "1994     260     91260.548256      362.145033         30.992863\n",
      "1995     494    273487.466782      561.575907         31.197804\n",
      "1996     506     352690.14332      702.570007         27.058047\n",
      "1997     698    549443.069047      788.297086         27.477338\n",
      "1998     770   1107786.908427     1438.684297         34.374450\n",
      "1999     994   1866562.201485     1881.615122         33.497525\n",
      "2000     857   1194774.463067     1394.135896         34.123905\n",
      "2001     587    478623.532613      816.763708         35.077006\n",
      "2002     447    239974.097289      536.854804         36.236753\n",
      "2003     514    231204.600066      449.814397         32.937263\n",
      "2004     476    625428.206653     1313.924804         25.964123\n",
      "2005     600    813730.569572     1356.217616         26.545711\n",
      "2006     806   1599965.344414     1985.068666         26.643751\n",
      "2007     852    1705303.39674     2001.529808         26.653034\n",
      "2008     613      773669.7716     1262.104032         41.362271\n",
      "2009     532    441108.387214      829.151104         44.083704\n",
      "2010     584    528214.279976      904.476507         37.044955\n",
      "2011     496    616749.630599     1243.446836         39.826199\n",
      "2012     487    358573.792086      736.291154         36.850174\n",
      "2013     418    409396.550637      979.417585         30.101642\n",
      "2014     477   1155548.271469     2422.533064         31.568752\n",
      "2015     528   1774117.290914     3360.070627         36.214619\n"
     ]
    }
   ],
   "source": [
    "# --- for each year from 1986 until 2015 --- #\n",
    "df['deal_year'] = df['deal_year'].astype(int)\n",
    "\n",
    "# series of counts of the number of deals in years\n",
    "counts = df['deal_year'].value_counts().sort_index()\n",
    "\n",
    "# series of sum of deal values by year\n",
    "sums_deal_values = df.groupby(\"deal_year\")[\"deal_value\"].sum()\n",
    "\n",
    "# series of average deal value by year\n",
    "avg_deal_value = df.groupby(\"deal_year\")[\"deal_value\"].mean()\n",
    "\n",
    "# average deal premium by year\n",
    "avg_deal_premium = df.groupby(\"deal_year\")[\"deal_premium\"].mean()\n",
    "\n",
    "# create new dataframe\n",
    "df_combined = pd.concat([counts, sums_deal_values, avg_deal_value, avg_deal_premium], axis=1)\n",
    "df_combined.index.name = 'year'\n",
    "df_combined.columns = ['counts', 'sums_deal_values', 'avg_deal_value', 'avg_deal_premium']\n",
    "print(df_combined)\n"
   ]
  },
  {
   "cell_type": "markdown",
   "id": "e2e0c6d1",
   "metadata": {},
   "source": [
    "#### 15a) What is the correlation between number of deals in a year and the sum of the deal value? And between the number of deals and the average deal premium in that year?"
   ]
  },
  {
   "cell_type": "code",
   "execution_count": 81,
   "id": "079e5c88",
   "metadata": {},
   "outputs": [
    {
     "name": "stdout",
     "output_type": "stream",
     "text": [
      "0.5666885627011166\n"
     ]
    },
    {
     "data": {
      "image/png": "[encoded data removed]",
      "text/plain": [
       "<Figure size 640x480 with 1 Axes>"
      ]
     },
     "metadata": {},
     "output_type": "display_data"
    }
   ],
   "source": [
    "import matplotlib.pyplot as plt\n",
    "\n",
    "# correlation between number of deals in a year and the sums of the deal value per year\n",
    "correlation=df_combined['counts'].astype('float64').corr(df_combined['avg_deal_value'].astype('float64'))\n",
    "\n",
    "print(correlation)\n",
    "plt.plot(df_combined['counts'], df_combined['avg_deal_value'], 'o', color='blue')\n",
    "plt.xlabel(\"Number of deals per year\")\n",
    "plt.ylabel(\"avg of deal value\")\n",
    "plt.show()"
   ]
  },
  {
   "cell_type": "code",
   "execution_count": 75,
   "id": "a6ef13ee",
   "metadata": {},
   "outputs": [
    {
     "name": "stdout",
     "output_type": "stream",
     "text": [
      "-0.44961849033754125\n"
     ]
    },
    {
     "data": {
      "image/png": "[encoded data removed]",
      "text/plain": [
       "<Figure size 640x480 with 1 Axes>"
      ]
     },
     "metadata": {},
     "output_type": "display_data"
    }
   ],
   "source": [
    "# correlation between between the number of deals and the average deal premium in that year\n",
    "correlation=df_combined['counts'].astype('float64').corr(df_combined['avg_deal_premium'].astype('float64'))\n",
    "\n",
    "print(correlation)\n",
    "plt.plot(df_combined['counts'], df_combined['avg_deal_premium'], 'o', color='blue')\n",
    "plt.xlabel(\"Number of deals per year\")\n",
    "plt.ylabel(\"Average deal premium in %\")\n",
    "plt.show()"
   ]
  },
  {
   "cell_type": "markdown",
   "id": "ad820d93",
   "metadata": {},
   "source": [
    "#### 15b)  Based  on  this  information,  do  you  see  direct  evidence  for  M&A  waves?  If  so,  what  drives  the M&A wave: number of deals, size of deals, and/or premiums paid? (max 100 words)\n",
    "\n",
    "There is a positive correlation between the average number of deal values and the number of deals per year. As the number of deals per year rise so tends to do the average deal value. The average deal premium exhibits a negative correlation to numbers of deals per year, however, visually the values look very scattered. Based on that evidence, one can conclude that the number of deals drive the M&A, however, further analysis is needed to confirm this."
   ]
  },
  {
   "cell_type": "markdown",
   "id": "20bc8748",
   "metadata": {},
   "source": [
    "### Excercise 16"
   ]
  },
  {
   "cell_type": "markdown",
   "id": "1c7e0889",
   "metadata": {},
   "source": [
    "### Excercise 17"
   ]
  }
 ],
 "metadata": {
  "kernelspec": {
   "display_name": "Python 3 (ipykernel)",
   "language": "python",
   "name": "python3"
  },
  "language_info": {
   "codemirror_mode": {
    "name": "ipython",
    "version": 3
   },
   "file_extension": ".py",
   "mimetype": "text/x-python",
   "name": "python",
   "nbconvert_exporter": "python",
   "pygments_lexer": "ipython3",
   "version": "3.9.13"
  }
 },
 "nbformat": 4,
 "nbformat_minor": 5
}
