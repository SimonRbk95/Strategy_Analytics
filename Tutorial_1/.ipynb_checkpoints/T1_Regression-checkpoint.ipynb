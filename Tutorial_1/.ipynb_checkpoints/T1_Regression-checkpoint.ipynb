{
 "cells": [
  {
   "cell_type": "code",
   "execution_count": 3,
   "id": "547dc71c",
   "metadata": {},
   "outputs": [],
   "source": [
    "import pandas as np\n"
   ]
  },
  {
   "cell_type": "code",
   "execution_count": 2,
   "id": "28c45e16",
   "metadata": {},
   "outputs": [
    {
     "data": {
      "text/plain": [
       "37.96077524085723"
      ]
     },
     "execution_count": 2,
     "metadata": {},
     "output_type": "execute_result"
    }
   ],
   "source": [
    "import pandas as pd\n",
    "\n",
    "\n",
    "# Read Excel file\n",
    "df = pd.read_excel('M_A_data.xlsx', sheet_name='Data')\n",
    "\n",
    "# overview\n",
    "df\n",
    "\n",
    "# make row at index 0 the new headers\n",
    "df.columns = df.iloc[0]\n",
    "\n",
    "# drop the old header\n",
    "df = df.drop([0])\n",
    "df = df.reset_index()\n",
    "\n",
    "# data types\n",
    "df.dtypes\n",
    "\n",
    "### Excercise 14\n",
    "\n",
    "#### 14a) What is the average “Deal premium”\n",
    "\n",
    "column_name = \"deal_premium\"\n",
    "# change data type to float for all rows starting from index 2\n",
    "df[column_name] = df[column_name].astype(float)\n",
    "\n",
    "# get mean for Deal Premium in percentages\n",
    "df[column_name].mean()\n",
    "\n",
    "#### 14b) What is the average deal premium for a high-tech target firm? \n",
    "\n",
    "# turn features to numericals\n",
    "df['tar_hightech'] = df['tar_hightech'].astype(int)\n",
    "\n",
    "# compute mean only for firms in the high tech industry\n",
    "df.loc[df['tar_hightech'] == 1, column_name].mean()\n",
    "\n",
    "#### 14c) What is the average deal premium for a non-high-tech target firm?\n",
    "\n",
    "#### 14d) What is the average deal premium for cross-border deals? \n",
    "\n",
    "#### 14e) What is the average deal premium for domestic deals? \n",
    "\n",
    "#### 14f) What is the average deal premium for cross-industry deals? \n",
    "\n",
    "#### 14g) What is the average deal premium for within-industry deals?\n",
    "\n",
    "### Excercise 15\n",
    "\n",
    "### Excercise 16\n",
    "\n",
    "### Excercise 17"
   ]
  },
  {
   "cell_type": "code",
   "execution_count": null,
   "id": "c7fef4a9",
   "metadata": {},
   "outputs": [],
   "source": []
  },
  {
   "cell_type": "code",
   "execution_count": null,
   "id": "1b74c304",
   "metadata": {},
   "outputs": [],
   "source": []
  }
 ],
 "metadata": {
  "kernelspec": {
   "display_name": "Python 3 (ipykernel)",
   "language": "python",
   "name": "python3"
  },
  "language_info": {
   "codemirror_mode": {
    "name": "ipython",
    "version": 3
   },
   "file_extension": ".py",
   "mimetype": "text/x-python",
   "name": "python",
   "nbconvert_exporter": "python",
   "pygments_lexer": "ipython3",
   "version": "3.9.13"
  }
 },
 "nbformat": 4,
 "nbformat_minor": 5
}
